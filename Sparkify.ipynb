{
 "cells": [
  {
   "cell_type": "markdown",
   "metadata": {},
   "source": [
    "# Sparkify Project Workspace\n",
    "This workspace contains a tiny subset (128MB) of the full dataset available (12GB). Feel free to use this workspace to build your project, or to explore a smaller subset with Spark before deploying your cluster on the cloud. Instructions for setting up your Spark cluster is included in the last lesson of the Extracurricular Spark Course content.\n",
    "\n",
    "You can follow the steps below to guide your data analysis and model building portion of this project."
   ]
  },
  {
   "cell_type": "code",
   "execution_count": 1,
   "metadata": {},
   "outputs": [
    {
     "name": "stdout",
     "output_type": "stream",
     "text": [
      "Waiting for a Spark session to start...\n",
      "Spark Initialization Done! ApplicationId = app-20190906191918-0000\n",
      "KERNEL_ID = e08dd3cb-026d-4d19-b6eb-619386796021\n"
     ]
    }
   ],
   "source": [
    "# import libraries\n",
    "from pyspark.sql import SparkSession\n",
    "from pyspark.sql.functions import isnan, when, count, col, avg\n",
    "from pyspark.sql.functions import udf\n",
    "from pyspark.sql.types import IntegerType\n",
    "import matplotlib.pyplot as plt\n",
    "import seaborn as sns\n",
    "%matplotlib inline\n",
    "\n",
    "from pyspark.ml.evaluation import BinaryClassificationEvaluator, MulticlassClassificationEvaluator\n",
    "import pandas as pd\n",
    "from pyspark.ml.classification import DecisionTreeClassifier, LogisticRegression,GBTClassifier\n",
    "\n",
    "from pyspark.ml.linalg import Vectors\n",
    "from pyspark.ml.feature import VectorAssembler\n"
   ]
  },
  {
   "cell_type": "code",
   "execution_count": 2,
   "metadata": {},
   "outputs": [],
   "source": [
    "\n",
    "import ibmos2spark\n",
    "# @hidden_cell\n",
    "credentials = {\n",
    "    'endpoint': 'https://s3-api.us-geo.objectstorage.service.networklayer.com',\n",
    "    'service_id': 'iam-ServiceId-55a0526c-4a4f-45d9-adbc-e9855b49a0e1',\n",
    "    'iam_service_endpoint': 'https://iam.ng.bluemix.net/oidc/token',\n",
    "    'api_key': 'Co3jKyfaNPW5jySztPoJT6Nv2RH73fTQbVa-dDCyQCsS'\n",
    "}\n",
    "\n",
    "configuration_name = 'os_78c31b1028124ff3bd446c2883b01b16_configs'\n",
    "cos = ibmos2spark.CloudObjectStorage(sc, credentials, configuration_name, 'bluemix_cos')\n",
    "\n",
    "#from pyspark.sql import SparkSession\n",
    "#spark = SparkSession.builder.getOrCreate()\n",
    "# Since JSON data can be semi-structured and contain additional metadata, it is possible that you might face issues with the DataFrame layout.\n",
    "# Please read the documentation of 'SparkSession.read()' to learn more about the possibilities to adjust the data loading.\n",
    "# PySpark documentation: http://spark.apache.org/docs/2.0.2/api/python/pyspark.sql.html#pyspark.sql.DataFrameReader.json\n",
    "\n",
    "# df_data_1 = spark.read.json(cos.url('medium-sparkify-event-data.json', 'sparkify-donotdelete-pr-9ufdi2m0eneccd'))\n",
    "# df_data_1.take(5)\n"
   ]
  },
  {
   "cell_type": "code",
   "execution_count": 3,
   "metadata": {},
   "outputs": [],
   "source": [
    "# create a Spark session\n",
    "spark = SparkSession.builder.appName(\"Sparkify\").getOrCreate()"
   ]
  },
  {
   "cell_type": "markdown",
   "metadata": {},
   "source": [
    "# Load and Clean Dataset\n",
    "In this workspace, the mini-dataset file is `mini_sparkify_event_data.json`. Load and clean the dataset, checking for invalid or missing data - for example, records without userids or sessionids. "
   ]
  },
  {
   "cell_type": "code",
   "execution_count": 4,
   "metadata": {},
   "outputs": [],
   "source": [
    "df = spark.read.json(cos.url('medium-sparkify-event-data.json', 'sparkify-donotdelete-pr-9ufdi2m0eneccd'))"
   ]
  },
  {
   "cell_type": "code",
   "execution_count": 5,
   "metadata": {},
   "outputs": [
    {
     "name": "stdout",
     "output_type": "stream",
     "text": [
      "root\n",
      " |-- artist: string (nullable = true)\n",
      " |-- auth: string (nullable = true)\n",
      " |-- firstName: string (nullable = true)\n",
      " |-- gender: string (nullable = true)\n",
      " |-- itemInSession: long (nullable = true)\n",
      " |-- lastName: string (nullable = true)\n",
      " |-- length: double (nullable = true)\n",
      " |-- level: string (nullable = true)\n",
      " |-- location: string (nullable = true)\n",
      " |-- method: string (nullable = true)\n",
      " |-- page: string (nullable = true)\n",
      " |-- registration: long (nullable = true)\n",
      " |-- sessionId: long (nullable = true)\n",
      " |-- song: string (nullable = true)\n",
      " |-- status: long (nullable = true)\n",
      " |-- ts: long (nullable = true)\n",
      " |-- userAgent: string (nullable = true)\n",
      " |-- userId: string (nullable = true)\n",
      "\n"
     ]
    }
   ],
   "source": [
    "df.printSchema()"
   ]
  },
  {
   "cell_type": "markdown",
   "metadata": {},
   "source": [
    "# Exploratory Data Analysis\n",
    "When you're working with the full dataset, perform EDA by loading a small subset of the data and doing basic manipulations within Spark. In this workspace, you are already provided a small subset of data you can explore."
   ]
  },
  {
   "cell_type": "code",
   "execution_count": 6,
   "metadata": {},
   "outputs": [
    {
     "name": "stdout",
     "output_type": "stream",
     "text": [
      "+-----------------+---------+---------+------+-------------+--------+---------+-----+--------------------+------+--------+-------------+---------+------------------+------+-------------+--------------------+------+\n",
      "|           artist|     auth|firstName|gender|itemInSession|lastName|   length|level|            location|method|    page| registration|sessionId|              song|status|           ts|           userAgent|userId|\n",
      "+-----------------+---------+---------+------+-------------+--------+---------+-----+--------------------+------+--------+-------------+---------+------------------+------+-------------+--------------------+------+\n",
      "|    Martin Orford|Logged In|   Joseph|     M|           20| Morales|597.55057| free|  Corpus Christi, TX|   PUT|NextSong|1532063507000|      292|     Grand Designs|   200|1538352011000|\"Mozilla/5.0 (Mac...|   293|\n",
      "|John Brown's Body|Logged In|   Sawyer|     M|           74|  Larson|380.21179| free|Houston-The Woodl...|   PUT|NextSong|1538069638000|       97|             Bulls|   200|1538352025000|\"Mozilla/5.0 (Mac...|    98|\n",
      "|          Afroman|Logged In| Maverick|     M|          184|Santiago|202.37016| paid|Orlando-Kissimmee...|   PUT|NextSong|1535953455000|      178|Because I Got High|   200|1538352118000|\"Mozilla/5.0 (Mac...|   179|\n",
      "|             null|Logged In| Maverick|     M|          185|Santiago|     null| paid|Orlando-Kissimmee...|   PUT|  Logout|1535953455000|      178|              null|   307|1538352119000|\"Mozilla/5.0 (Mac...|   179|\n",
      "|       Lily Allen|Logged In|   Gianna|     F|           22|  Campos|194.53342| paid|          Mobile, AL|   PUT|NextSong|1535931018000|      245|Smile (Radio Edit)|   200|1538352124000|Mozilla/5.0 (Wind...|   246|\n",
      "+-----------------+---------+---------+------+-------------+--------+---------+-----+--------------------+------+--------+-------------+---------+------------------+------+-------------+--------------------+------+\n",
      "only showing top 5 rows\n",
      "\n"
     ]
    }
   ],
   "source": [
    "## check the values\n",
    "df.show(5)"
   ]
  },
  {
   "cell_type": "markdown",
   "metadata": {},
   "source": [
    "### Check empty values"
   ]
  },
  {
   "cell_type": "code",
   "execution_count": 7,
   "metadata": {},
   "outputs": [],
   "source": [
    "def check_empty(df):\n",
    "    '''\n",
    "    inputs: \n",
    "            df: Spark RDD data frame\n",
    "    Outputs: \n",
    "            Print the number of empty values in each column \n",
    "    Description: This method iterates each column in an RDD and counts the number of NaN values'''\n",
    "    for col in df.columns:\n",
    "        nan_count = df.filter((isnan(df[col])) | (df[col].isNull()) ).count()\n",
    "        print(\"The total number of empty values for {} is {}\".format(col,nan_count))\n",
    "    return"
   ]
  },
  {
   "cell_type": "code",
   "execution_count": 8,
   "metadata": {
    "scrolled": true
   },
   "outputs": [
    {
     "name": "stdout",
     "output_type": "stream",
     "text": [
      "The total number of empty values for artist is 110828\n",
      "The total number of empty values for auth is 0\n",
      "The total number of empty values for firstName is 15700\n",
      "The total number of empty values for gender is 15700\n",
      "The total number of empty values for itemInSession is 0\n",
      "The total number of empty values for lastName is 15700\n",
      "The total number of empty values for length is 110828\n",
      "The total number of empty values for level is 0\n",
      "The total number of empty values for location is 15700\n",
      "The total number of empty values for method is 0\n",
      "The total number of empty values for page is 0\n",
      "The total number of empty values for registration is 15700\n",
      "The total number of empty values for sessionId is 0\n",
      "The total number of empty values for song is 110828\n",
      "The total number of empty values for status is 0\n",
      "The total number of empty values for ts is 0\n",
      "The total number of empty values for userAgent is 15700\n",
      "The total number of empty values for userId is 0\n"
     ]
    }
   ],
   "source": [
    "check_empty(df)\n",
    "Allrecords = df.count()"
   ]
  },
  {
   "cell_type": "markdown",
   "metadata": {},
   "source": [
    "Drop value with nans and preform a check after dropping those records."
   ]
  },
  {
   "cell_type": "code",
   "execution_count": 9,
   "metadata": {},
   "outputs": [],
   "source": [
    "df = df.dropna(how = \"any\", subset = [\"userId\", \"sessionId\"])"
   ]
  },
  {
   "cell_type": "code",
   "execution_count": 10,
   "metadata": {},
   "outputs": [
    {
     "name": "stdout",
     "output_type": "stream",
     "text": [
      "The total number of empty values for artist is 110828\n",
      "The total number of empty values for auth is 0\n",
      "The total number of empty values for firstName is 15700\n",
      "The total number of empty values for gender is 15700\n",
      "The total number of empty values for itemInSession is 0\n",
      "The total number of empty values for lastName is 15700\n",
      "The total number of empty values for length is 110828\n",
      "The total number of empty values for level is 0\n",
      "The total number of empty values for location is 15700\n",
      "The total number of empty values for method is 0\n",
      "The total number of empty values for page is 0\n",
      "The total number of empty values for registration is 15700\n",
      "The total number of empty values for sessionId is 0\n",
      "The total number of empty values for song is 110828\n",
      "The total number of empty values for status is 0\n",
      "The total number of empty values for ts is 0\n",
      "The total number of empty values for userAgent is 15700\n",
      "The total number of empty values for userId is 0\n"
     ]
    }
   ],
   "source": [
    "check_empty(df)"
   ]
  },
  {
   "cell_type": "code",
   "execution_count": 11,
   "metadata": {},
   "outputs": [
    {
     "name": "stdout",
     "output_type": "stream",
     "text": [
      "+-------+-----------------+----------+---------+------+------------------+--------+------------------+------+----------------+------+-------+--------------------+------------------+--------------------+------------------+--------------------+--------------------+------------------+\n",
      "|summary|           artist|      auth|firstName|gender|     itemInSession|lastName|            length| level|        location|method|   page|        registration|         sessionId|                song|            status|                  ts|           userAgent|            userId|\n",
      "+-------+-----------------+----------+---------+------+------------------+--------+------------------+------+----------------+------+-------+--------------------+------------------+--------------------+------------------+--------------------+--------------------+------------------+\n",
      "|  count|           432877|    543705|   528005|528005|            543705|  528005|            432877|543705|          528005|543705| 543705|              528005|            543705|              432877|            543705|              543705|              528005|            543705|\n",
      "|   mean|527.5289537712895|      null|     null|  null|107.30629109535502|    null|248.66459278007738|  null|            null|  null|   null|1.535523414862437E12|2040.8143533717732|            Infinity|210.01829116892432|1.540964541209800...|                null| 60268.42669103512|\n",
      "| stddev|966.1072451772758|      null|     null|  null|116.72350849188074|    null| 98.41266955051972|  null|            null|  null|   null|3.0787254929957166E9| 1434.338931078271|                 NaN|31.471919021567537|1.4820571449105084E9|                null|109898.82324176628|\n",
      "|    min|              !!!| Cancelled|  Aaliyah|     F|                 0|  Abbott|           0.78322|  free|       Akron, OH|   GET|  About|       1509854193000|                 1|\u001c",
      "ÃÂg ÃÂtti Gr...|               200|       1538352011000|\"Mozilla/5.0 (Mac...|                  |\n",
      "|    max|ÃÂlafur Arnalds|Logged Out|   Zyonna|     M|              1005|  Wright|        3024.66567|  paid|York-Hanover, PA|   PUT|Upgrade|       1543073874000|              4808|ÃÂ¾etta Gerist Ã...|               404|       1543622466000|Mozilla/5.0 (comp...|                99|\n",
      "+-------+-----------------+----------+---------+------+------------------+--------+------------------+------+----------------+------+-------+--------------------+------------------+--------------------+------------------+--------------------+--------------------+------------------+\n",
      "\n"
     ]
    }
   ],
   "source": [
    "df.describe().show()"
   ]
  },
  {
   "cell_type": "code",
   "execution_count": 12,
   "metadata": {},
   "outputs": [
    {
     "name": "stdout",
     "output_type": "stream",
     "text": [
      "Total number of records in the dataset 543705\n",
      "Total number of removed missing records 0\n"
     ]
    }
   ],
   "source": [
    "records = df.count()\n",
    "print('Total number of records in the dataset {}'.format(df.count()))\n",
    "print('Total number of removed missing records {}'.format(Allrecords- records))"
   ]
  },
  {
   "cell_type": "markdown",
   "metadata": {},
   "source": [
    "### Define Churn\n",
    "\n",
    "Column `Churn` is the label for the model, it is defined by the `Cancellation Confirmation` events, which can happen for both paid and free users. As a bonus task."
   ]
  },
  {
   "cell_type": "code",
   "execution_count": 13,
   "metadata": {},
   "outputs": [
    {
     "name": "stdout",
     "output_type": "stream",
     "text": [
      "+--------------------+\n",
      "|                page|\n",
      "+--------------------+\n",
      "|               About|\n",
      "|          Add Friend|\n",
      "|     Add to Playlist|\n",
      "|              Cancel|\n",
      "|Cancellation Conf...|\n",
      "|           Downgrade|\n",
      "|               Error|\n",
      "|                Help|\n",
      "|                Home|\n",
      "|               Login|\n",
      "|              Logout|\n",
      "|            NextSong|\n",
      "|            Register|\n",
      "|         Roll Advert|\n",
      "|       Save Settings|\n",
      "|            Settings|\n",
      "|    Submit Downgrade|\n",
      "| Submit Registration|\n",
      "|      Submit Upgrade|\n",
      "|         Thumbs Down|\n",
      "+--------------------+\n",
      "only showing top 20 rows\n",
      "\n"
     ]
    }
   ],
   "source": [
    "##Find all possible values of page\n",
    "df.select(\"page\").dropDuplicates().sort(\"page\").show()"
   ]
  },
  {
   "cell_type": "code",
   "execution_count": 14,
   "metadata": {
    "scrolled": false
   },
   "outputs": [
    {
     "name": "stdout",
     "output_type": "stream",
     "text": [
      "+--------------------+\n",
      "|                page|\n",
      "+--------------------+\n",
      "|Cancellation Conf...|\n",
      "|Cancellation Conf...|\n",
      "|Cancellation Conf...|\n",
      "|Cancellation Conf...|\n",
      "|Cancellation Conf...|\n",
      "+--------------------+\n",
      "only showing top 5 rows\n",
      "\n"
     ]
    }
   ],
   "source": [
    "df.filter(\"page =='Cancellation Confirmation'\").select('page').show(5)"
   ]
  },
  {
   "cell_type": "code",
   "execution_count": 15,
   "metadata": {},
   "outputs": [
    {
     "name": "stdout",
     "output_type": "stream",
     "text": [
      "+-----+\n",
      "|churn|\n",
      "+-----+\n",
      "|    1|\n",
      "|    0|\n",
      "+-----+\n",
      "\n"
     ]
    }
   ],
   "source": [
    "function = udf(lambda x: 1 if x == \"Cancellation Confirmation\" else 0, IntegerType())\n",
    "df_labeled = df.withColumn('churn',function('page'))\n",
    "df_labeled.select(\"churn\").dropDuplicates().show()"
   ]
  },
  {
   "cell_type": "code",
   "execution_count": 16,
   "metadata": {},
   "outputs": [
    {
     "name": "stdout",
     "output_type": "stream",
     "text": [
      "churned: 22.05%\n"
     ]
    }
   ],
   "source": [
    "churned_rate = df_labeled.groupby(\"userId\").agg({\"churn\": \"sum\"}).select(avg(\"sum(churn)\")).collect()[0][\"avg(sum(churn))\"]\n",
    "print(\"churned: {:.2f}%\".format(churned_rate * 100))"
   ]
  },
  {
   "cell_type": "markdown",
   "metadata": {},
   "source": [
    "### Explore Data\n",
    "After defining churn, some exploratory data analysis are performed to observe the behavior for users who stayed vs users who churned. "
   ]
  },
  {
   "cell_type": "code",
   "execution_count": 17,
   "metadata": {},
   "outputs": [],
   "source": [
    "def vis_bar(df,col):\n",
    "    '''\n",
    "    inputs: df: Spark dataframe that contains churn column and col\n",
    "            col: String name to compare churn against\n",
    "    outputs: plot bar that compares churn and col\n",
    "    Description: This method takes a df and groups it by churn and col then visualize it using a barchart\n",
    "    '''\n",
    "    ### Extrct ID, col and churn data to pandas \n",
    "    tdf = df.groupby('userId').agg({\"churn\":\"max\",col:\"max\"}).toPandas()\n",
    "    tdf['max(churn)'] = tdf['max(churn)'].map({1:'Churn', 0:'Not Churn'})\n",
    "    tdf.columns= ['uderId',col,'churn']\n",
    "    ## Visualize using seaborn\n",
    "    sns.countplot(y='churn', hue=col, data=tdf,palette=\"Greens_d\");\n",
    "    return"
   ]
  },
  {
   "cell_type": "markdown",
   "metadata": {},
   "source": [
    "#### Churn by gender"
   ]
  },
  {
   "cell_type": "code",
   "execution_count": 18,
   "metadata": {},
   "outputs": [
    {
     "data": {
      "image/png": "[encoded data removed]",
      "text/plain": [
       "<Figure size 432x288 with 1 Axes>"
      ]
     },
     "metadata": {
      "needs_background": "light"
     },
     "output_type": "display_data"
    }
   ],
   "source": [
    "### Extrct ID, gender and churn data and visualize using seaborn\n",
    "vis_bar(df_labeled,\"gender\")"
   ]
  },
  {
   "cell_type": "markdown",
   "metadata": {},
   "source": [
    "#### Churn by level (Free vs Paid)"
   ]
  },
  {
   "cell_type": "code",
   "execution_count": 19,
   "metadata": {},
   "outputs": [
    {
     "data": {
      "image/png": "[encoded data removed]",
      "text/plain": [
       "<Figure size 432x288 with 1 Axes>"
      ]
     },
     "metadata": {
      "needs_background": "light"
     },
     "output_type": "display_data"
    }
   ],
   "source": [
    "### Extrct ID, level and churn data and Visualize using seaborn\n",
    "vis_bar(df_labeled,'level')"
   ]
  },
  {
   "cell_type": "markdown",
   "metadata": {},
   "source": [
    "# Feature Engineering\n",
    "Once you've familiarized yourself with the data, build out the features you find promising to train your model on. To work with the full dataset, you can follow the following steps.\n",
    "- Write a script to extract the necessary features from the smaller subset of data\n",
    "- Ensure that your script is scalable, using the best practices discussed in Lesson 3\n",
    "- Try your script on the full data set, debugging your script if necessary\n",
    "\n",
    "If you are working in the classroom workspace, you can just extract features based on the small subset of data contained here. Be sure to transfer over this work to the larger dataset when you work on your Spark cluster."
   ]
  },
  {
   "cell_type": "code",
   "execution_count": 20,
   "metadata": {},
   "outputs": [
    {
     "data": {
      "text/plain": [
       "['artist',\n",
       " 'auth',\n",
       " 'firstName',\n",
       " 'gender',\n",
       " 'itemInSession',\n",
       " 'lastName',\n",
       " 'length',\n",
       " 'level',\n",
       " 'location',\n",
       " 'method',\n",
       " 'page',\n",
       " 'registration',\n",
       " 'sessionId',\n",
       " 'song',\n",
       " 'status',\n",
       " 'ts',\n",
       " 'userAgent',\n",
       " 'userId',\n",
       " 'churn']"
      ]
     },
     "execution_count": 20,
     "metadata": {},
     "output_type": "execute_result"
    }
   ],
   "source": [
    "### Select data that are relevent to the problem\n",
    "df_labeled.columns"
   ]
  },
  {
   "cell_type": "markdown",
   "metadata": {},
   "source": [
    "Features such as auth, firstName, lastName, itemInSession, location, registration, sessionId, method, song ts, status, and userAgent aren't relevent to the problem. The other values will be aggrigated and joined in a df that contains one row for each user. Binary and categorical values will be handled. "
   ]
  },
  {
   "cell_type": "markdown",
   "metadata": {},
   "source": [
    "### Total Plays"
   ]
  },
  {
   "cell_type": "code",
   "execution_count": 21,
   "metadata": {},
   "outputs": [
    {
     "name": "stdout",
     "output_type": "stream",
     "text": [
      "+------+-------------+\n",
      "|userId|count(artist)|\n",
      "+------+-------------+\n",
      "|100010|           96|\n",
      "|200002|          310|\n",
      "|   296|          112|\n",
      "|   125|           62|\n",
      "|   124|         1826|\n",
      "+------+-------------+\n",
      "only showing top 5 rows\n",
      "\n"
     ]
    }
   ],
   "source": [
    "df_labeled.groupby(\"userId\").agg({\"artist\": \"count\"}).show(5)"
   ]
  },
  {
   "cell_type": "code",
   "execution_count": 22,
   "metadata": {},
   "outputs": [
    {
     "name": "stdout",
     "output_type": "stream",
     "text": [
      "+------+-----------+\n",
      "|userId|count_plays|\n",
      "+------+-----------+\n",
      "|100010|         96|\n",
      "|200002|        310|\n",
      "|   296|        112|\n",
      "|   125|         62|\n",
      "|    51|        266|\n",
      "+------+-----------+\n",
      "only showing top 5 rows\n",
      "\n"
     ]
    }
   ],
   "source": [
    "count_plays = df_labeled.groupby(\"userId\").agg({\"artist\": \"count\"}).withColumnRenamed(\"count(artist)\", \"count_plays\")\n",
    "count_plays.show(5)"
   ]
  },
  {
   "cell_type": "markdown",
   "metadata": {},
   "source": [
    "### Gender"
   ]
  },
  {
   "cell_type": "markdown",
   "metadata": {},
   "source": [
    "Each user has a single gender value, since it is a binary catagorial Female are mapped to 1 and Males are mapped to 0."
   ]
  },
  {
   "cell_type": "code",
   "execution_count": 23,
   "metadata": {},
   "outputs": [
    {
     "name": "stdout",
     "output_type": "stream",
     "text": [
      "+-----------------+---------+---------+------+-------------+--------+---------+-----+--------------------+------+--------+-------------+---------+------------------+------+-------------+--------------------+------+-----+\n",
      "|           artist|     auth|firstName|gender|itemInSession|lastName|   length|level|            location|method|    page| registration|sessionId|              song|status|           ts|           userAgent|userId|churn|\n",
      "+-----------------+---------+---------+------+-------------+--------+---------+-----+--------------------+------+--------+-------------+---------+------------------+------+-------------+--------------------+------+-----+\n",
      "|    Martin Orford|Logged In|   Joseph|     0|           20| Morales|597.55057| free|  Corpus Christi, TX|   PUT|NextSong|1532063507000|      292|     Grand Designs|   200|1538352011000|\"Mozilla/5.0 (Mac...|   293|    0|\n",
      "|John Brown's Body|Logged In|   Sawyer|     0|           74|  Larson|380.21179| free|Houston-The Woodl...|   PUT|NextSong|1538069638000|       97|             Bulls|   200|1538352025000|\"Mozilla/5.0 (Mac...|    98|    0|\n",
      "|          Afroman|Logged In| Maverick|     0|          184|Santiago|202.37016| paid|Orlando-Kissimmee...|   PUT|NextSong|1535953455000|      178|Because I Got High|   200|1538352118000|\"Mozilla/5.0 (Mac...|   179|    0|\n",
      "|             null|Logged In| Maverick|     0|          185|Santiago|     null| paid|Orlando-Kissimmee...|   PUT|  Logout|1535953455000|      178|              null|   307|1538352119000|\"Mozilla/5.0 (Mac...|   179|    0|\n",
      "|       Lily Allen|Logged In|   Gianna|     1|           22|  Campos|194.53342| paid|          Mobile, AL|   PUT|NextSong|1535931018000|      245|Smile (Radio Edit)|   200|1538352124000|Mozilla/5.0 (Wind...|   246|    0|\n",
      "+-----------------+---------+---------+------+-------------+--------+---------+-----+--------------------+------+--------+-------------+---------+------------------+------+-------------+--------------------+------+-----+\n",
      "only showing top 5 rows\n",
      "\n"
     ]
    }
   ],
   "source": [
    "map_gender = udf(lambda x: 1 if x == \"F\" else 0, IntegerType())\n",
    "df_labeled = df_labeled.withColumn(\"gender\", map_gender(\"gender\"))\n",
    "df_labeled.show(5)"
   ]
  },
  {
   "cell_type": "markdown",
   "metadata": {},
   "source": [
    "### Length"
   ]
  },
  {
   "cell_type": "code",
   "execution_count": 24,
   "metadata": {},
   "outputs": [
    {
     "name": "stdout",
     "output_type": "stream",
     "text": [
      "+------+------------------+\n",
      "|userId|      total_length|\n",
      "+------+------------------+\n",
      "|   296|28314.150059999996|\n",
      "|100010|25870.950739999997|\n",
      "|200002| 78695.82683999998|\n",
      "|   125|15813.771070000003|\n",
      "|    51| 66817.21162999999|\n",
      "+------+------------------+\n",
      "only showing top 5 rows\n",
      "\n"
     ]
    }
   ],
   "source": [
    "sum_len = df_labeled.groupby(\"userId\").agg({\"length\": \"sum\"}).withColumnRenamed(\"sum(length)\", \"total_length\")\n",
    "sum_len.show(5)"
   ]
  },
  {
   "cell_type": "markdown",
   "metadata": {},
   "source": [
    "### Level"
   ]
  },
  {
   "cell_type": "code",
   "execution_count": 25,
   "metadata": {},
   "outputs": [
    {
     "name": "stdout",
     "output_type": "stream",
     "text": [
      "+-----------------+---------+---------+------+-------------+--------+---------+-----+--------------------+------+--------+-------------+---------+------------------+------+-------------+--------------------+------+-----+\n",
      "|           artist|     auth|firstName|gender|itemInSession|lastName|   length|level|            location|method|    page| registration|sessionId|              song|status|           ts|           userAgent|userId|churn|\n",
      "+-----------------+---------+---------+------+-------------+--------+---------+-----+--------------------+------+--------+-------------+---------+------------------+------+-------------+--------------------+------+-----+\n",
      "|    Martin Orford|Logged In|   Joseph|     0|           20| Morales|597.55057|    0|  Corpus Christi, TX|   PUT|NextSong|1532063507000|      292|     Grand Designs|   200|1538352011000|\"Mozilla/5.0 (Mac...|   293|    0|\n",
      "|John Brown's Body|Logged In|   Sawyer|     0|           74|  Larson|380.21179|    0|Houston-The Woodl...|   PUT|NextSong|1538069638000|       97|             Bulls|   200|1538352025000|\"Mozilla/5.0 (Mac...|    98|    0|\n",
      "|          Afroman|Logged In| Maverick|     0|          184|Santiago|202.37016|    1|Orlando-Kissimmee...|   PUT|NextSong|1535953455000|      178|Because I Got High|   200|1538352118000|\"Mozilla/5.0 (Mac...|   179|    0|\n",
      "|             null|Logged In| Maverick|     0|          185|Santiago|     null|    1|Orlando-Kissimmee...|   PUT|  Logout|1535953455000|      178|              null|   307|1538352119000|\"Mozilla/5.0 (Mac...|   179|    0|\n",
      "|       Lily Allen|Logged In|   Gianna|     1|           22|  Campos|194.53342|    1|          Mobile, AL|   PUT|NextSong|1535931018000|      245|Smile (Radio Edit)|   200|1538352124000|Mozilla/5.0 (Wind...|   246|    0|\n",
      "+-----------------+---------+---------+------+-------------+--------+---------+-----+--------------------+------+--------+-------------+---------+------------------+------+-------------+--------------------+------+-----+\n",
      "only showing top 5 rows\n",
      "\n"
     ]
    }
   ],
   "source": [
    "map_level = udf(lambda x: 1 if x == \"paid\" else 0, IntegerType())\n",
    "df_labeled = df_labeled.withColumn(\"level\", map_level(\"level\"))\n",
    "df_labeled.show(5)"
   ]
  },
  {
   "cell_type": "markdown",
   "metadata": {},
   "source": [
    "### Interaction"
   ]
  },
  {
   "cell_type": "code",
   "execution_count": 26,
   "metadata": {},
   "outputs": [
    {
     "name": "stdout",
     "output_type": "stream",
     "text": [
      "+--------------------+\n",
      "|                page|\n",
      "+--------------------+\n",
      "|               About|\n",
      "|          Add Friend|\n",
      "|     Add to Playlist|\n",
      "|              Cancel|\n",
      "|Cancellation Conf...|\n",
      "|           Downgrade|\n",
      "|               Error|\n",
      "|                Help|\n",
      "|                Home|\n",
      "|               Login|\n",
      "|              Logout|\n",
      "|            NextSong|\n",
      "|            Register|\n",
      "|         Roll Advert|\n",
      "|       Save Settings|\n",
      "|            Settings|\n",
      "|    Submit Downgrade|\n",
      "| Submit Registration|\n",
      "|      Submit Upgrade|\n",
      "|         Thumbs Down|\n",
      "+--------------------+\n",
      "only showing top 20 rows\n",
      "\n"
     ]
    }
   ],
   "source": [
    "df.select(\"page\").dropDuplicates().sort(\"page\").show()"
   ]
  },
  {
   "cell_type": "code",
   "execution_count": 27,
   "metadata": {},
   "outputs": [
    {
     "name": "stdout",
     "output_type": "stream",
     "text": [
      "+-----------------+---------+---------+------+-------------+--------+---------+-----+--------------------+------+--------+-------------+---------+------------------+------+-------------+--------------------+------+-----+---------+-----------+\n",
      "|           artist|     auth|firstName|gender|itemInSession|lastName|   length|level|            location|method|    page| registration|sessionId|              song|status|           ts|           userAgent|userId|churn|thumbs_up|thumbs_down|\n",
      "+-----------------+---------+---------+------+-------------+--------+---------+-----+--------------------+------+--------+-------------+---------+------------------+------+-------------+--------------------+------+-----+---------+-----------+\n",
      "|    Martin Orford|Logged In|   Joseph|     0|           20| Morales|597.55057|    0|  Corpus Christi, TX|   PUT|NextSong|1532063507000|      292|     Grand Designs|   200|1538352011000|\"Mozilla/5.0 (Mac...|   293|    0|        0|          0|\n",
      "|John Brown's Body|Logged In|   Sawyer|     0|           74|  Larson|380.21179|    0|Houston-The Woodl...|   PUT|NextSong|1538069638000|       97|             Bulls|   200|1538352025000|\"Mozilla/5.0 (Mac...|    98|    0|        0|          0|\n",
      "|          Afroman|Logged In| Maverick|     0|          184|Santiago|202.37016|    1|Orlando-Kissimmee...|   PUT|NextSong|1535953455000|      178|Because I Got High|   200|1538352118000|\"Mozilla/5.0 (Mac...|   179|    0|        0|          0|\n",
      "|             null|Logged In| Maverick|     0|          185|Santiago|     null|    1|Orlando-Kissimmee...|   PUT|  Logout|1535953455000|      178|              null|   307|1538352119000|\"Mozilla/5.0 (Mac...|   179|    0|        0|          0|\n",
      "|       Lily Allen|Logged In|   Gianna|     1|           22|  Campos|194.53342|    1|          Mobile, AL|   PUT|NextSong|1535931018000|      245|Smile (Radio Edit)|   200|1538352124000|Mozilla/5.0 (Wind...|   246|    0|        0|          0|\n",
      "+-----------------+---------+---------+------+-------------+--------+---------+-----+--------------------+------+--------+-------------+---------+------------------+------+-------------+--------------------+------+-----+---------+-----------+\n",
      "only showing top 5 rows\n",
      "\n"
     ]
    }
   ],
   "source": [
    "map_up = udf(lambda x: 1 if x == \"Thumbs Up\" else 0, IntegerType())\n",
    "map_down = udf(lambda x: 1 if x == \"Thumbs Down\" else 0, IntegerType())\n",
    "\n",
    "df_labeled = df_labeled.withColumn(\"thumbs_up\", map_up(\"page\")).withColumn(\"thumbs_down\", map_level(\"page\"))\n",
    "df_labeled.show(5)"
   ]
  },
  {
   "cell_type": "markdown",
   "metadata": {},
   "source": [
    "### Putting it all together"
   ]
  },
  {
   "cell_type": "code",
   "execution_count": 28,
   "metadata": {},
   "outputs": [
    {
     "name": "stdout",
     "output_type": "stream",
     "text": [
      "+------+---------+-----+-----------+------+-----+\n",
      "|userId|thumbs_up|label|thumbs_down|gender|level|\n",
      "+------+---------+-----+-----------+------+-----+\n",
      "|   296|        8|    1|          0|     1|    1|\n",
      "|100010|        4|    1|          0|     1|    0|\n",
      "|200002|       15|    1|          0|     0|    1|\n",
      "|   125|        3|    0|          0|     0|    0|\n",
      "|    51|       16|    1|          0|     0|    1|\n",
      "+------+---------+-----+-----------+------+-----+\n",
      "only showing top 5 rows\n",
      "\n"
     ]
    }
   ],
   "source": [
    "df_features = df_labeled.groupby('userId').agg({\"churn\":\"max\",\"gender\":\"max\",\"level\":\"max\",\"thumbs_up\":\"sum\",\"thumbs_down\":\"sum\"}).withColumnRenamed(\"sum(length)\", \"length\").withColumnRenamed(\"sum(thumbs_up)\", \"thumbs_up\").withColumnRenamed(\"max(churn)\", \"label\").withColumnRenamed(\"sum(thumbs_down)\", \"thumbs_down\").withColumnRenamed(\"max(gender)\", \"gender\").withColumnRenamed(\"max(level)\", \"level\")\n",
    "\n",
    "df_features.show(5)"
   ]
  },
  {
   "cell_type": "code",
   "execution_count": 29,
   "metadata": {},
   "outputs": [
    {
     "name": "stdout",
     "output_type": "stream",
     "text": [
      "+------+---------+-----+-----------+------+-----+-----------+------------------+\n",
      "|userId|thumbs_up|label|thumbs_down|gender|level|count_plays|      total_length|\n",
      "+------+---------+-----+-----------+------+-----+-----------+------------------+\n",
      "|100010|        4|    1|          0|     1|    0|         96|25870.950739999997|\n",
      "|200002|       15|    1|          0|     0|    1|        310| 78695.82683999998|\n",
      "|   296|        8|    1|          0|     1|    1|        112|28314.150059999996|\n",
      "|   125|        3|    0|          0|     0|    0|         62|15813.771070000003|\n",
      "|   124|      102|    1|          0|     1|    1|       1826|      456664.04058|\n",
      "+------+---------+-----+-----------+------+-----+-----------+------------------+\n",
      "only showing top 5 rows\n",
      "\n"
     ]
    }
   ],
   "source": [
    "df_features = df_features.join(count_plays, ['userId']).join(sum_len, ['userId'])\n",
    "df_features.show(5)"
   ]
  },
  {
   "cell_type": "markdown",
   "metadata": {},
   "source": [
    "### Transform Features"
   ]
  },
  {
   "cell_type": "code",
   "execution_count": 30,
   "metadata": {},
   "outputs": [
    {
     "name": "stdout",
     "output_type": "stream",
     "text": [
      "+------+---------+-----+-----------+------+-----+-----------+------------------+--------------------+\n",
      "|userId|thumbs_up|label|thumbs_down|gender|level|count_plays|      total_length|            features|\n",
      "+------+---------+-----+-----------+------+-----+-----------+------------------+--------------------+\n",
      "|100010|        4|    1|          0|     1|    0|         96|25870.950739999997|[4.0,0.0,1.0,0.0,...|\n",
      "|200002|       15|    1|          0|     0|    1|        310| 78695.82683999998|[15.0,0.0,0.0,1.0...|\n",
      "|   296|        8|    1|          0|     1|    1|        112|28314.150059999996|[8.0,0.0,1.0,1.0,...|\n",
      "|   125|        3|    0|          0|     0|    0|         62|15813.771070000003|[3.0,0.0,0.0,0.0,...|\n",
      "|   124|      102|    1|          0|     1|    1|       1826|      456664.04058|[102.0,0.0,1.0,1....|\n",
      "+------+---------+-----+-----------+------+-----+-----------+------------------+--------------------+\n",
      "only showing top 5 rows\n",
      "\n"
     ]
    }
   ],
   "source": [
    "#create features column\n",
    "df_features = df_features.fillna(0)\n",
    "assembler = VectorAssembler(\n",
    "    inputCols= ['thumbs_up','thumbs_down', 'gender','level','count_plays',  'total_length'],\n",
    "    outputCol=\"features\")\n",
    "vec_features = assembler.transform(df_features)\n",
    "vec_features.show(5)"
   ]
  },
  {
   "cell_type": "code",
   "execution_count": 31,
   "metadata": {},
   "outputs": [
    {
     "name": "stderr",
     "output_type": "stream",
     "text": [
      "/opt/ibm/conda/miniconda36/lib/python3.6/site-packages/pandas/plotting/_misc.py:108: UserWarning: Attempting to set identical left==right results\n",
      "in singular transformations; automatically expanding.\n",
      "left=0.0, right=0.0\n",
      "  ax.set_xlim(boundaries_list[j])\n",
      "/opt/ibm/conda/miniconda36/lib/python3.6/site-packages/pandas/plotting/_misc.py:108: UserWarning: Attempting to set identical left==right results\n",
      "in singular transformations; automatically expanding.\n",
      "left=0.0, right=0.0\n",
      "  ax.set_xlim(boundaries_list[j])\n",
      "/opt/ibm/conda/miniconda36/lib/python3.6/site-packages/pandas/plotting/_misc.py:109: UserWarning: Attempting to set identical bottom==top results\n",
      "in singular transformations; automatically expanding.\n",
      "bottom=0.0, top=0.0\n",
      "  ax.set_ylim(boundaries_list[i])\n",
      "/opt/ibm/conda/miniconda36/lib/python3.6/site-packages/pandas/plotting/_misc.py:109: UserWarning: Attempting to set identical bottom==top results\n",
      "in singular transformations; automatically expanding.\n",
      "bottom=0.0, top=0.0\n",
      "  ax.set_ylim(boundaries_list[i])\n",
      "/opt/ibm/conda/miniconda36/lib/python3.6/site-packages/pandas/plotting/_misc.py:100: UserWarning: Attempting to set identical left==right results\n",
      "in singular transformations; automatically expanding.\n",
      "left=0.0, right=0.0\n",
      "  ax.set_xlim(boundaries_list[i])\n",
      "/opt/ibm/conda/miniconda36/lib/python3.6/site-packages/pandas/plotting/_misc.py:109: UserWarning: Attempting to set identical bottom==top results\n",
      "in singular transformations; automatically expanding.\n",
      "bottom=0.0, top=0.0\n",
      "  ax.set_ylim(boundaries_list[i])\n",
      "/opt/ibm/conda/miniconda36/lib/python3.6/site-packages/pandas/plotting/_misc.py:109: UserWarning: Attempting to set identical bottom==top results\n",
      "in singular transformations; automatically expanding.\n",
      "bottom=0.0, top=0.0\n",
      "  ax.set_ylim(boundaries_list[i])\n",
      "/opt/ibm/conda/miniconda36/lib/python3.6/site-packages/pandas/plotting/_misc.py:109: UserWarning: Attempting to set identical bottom==top results\n",
      "in singular transformations; automatically expanding.\n",
      "bottom=0.0, top=0.0\n",
      "  ax.set_ylim(boundaries_list[i])\n",
      "/opt/ibm/conda/miniconda36/lib/python3.6/site-packages/pandas/plotting/_misc.py:109: UserWarning: Attempting to set identical bottom==top results\n",
      "in singular transformations; automatically expanding.\n",
      "bottom=0.0, top=0.0\n",
      "  ax.set_ylim(boundaries_list[i])\n",
      "/opt/ibm/conda/miniconda36/lib/python3.6/site-packages/pandas/plotting/_misc.py:108: UserWarning: Attempting to set identical left==right results\n",
      "in singular transformations; automatically expanding.\n",
      "left=0.0, right=0.0\n",
      "  ax.set_xlim(boundaries_list[j])\n",
      "/opt/ibm/conda/miniconda36/lib/python3.6/site-packages/pandas/plotting/_misc.py:108: UserWarning: Attempting to set identical left==right results\n",
      "in singular transformations; automatically expanding.\n",
      "left=0.0, right=0.0\n",
      "  ax.set_xlim(boundaries_list[j])\n",
      "/opt/ibm/conda/miniconda36/lib/python3.6/site-packages/pandas/plotting/_misc.py:108: UserWarning: Attempting to set identical left==right results\n",
      "in singular transformations; automatically expanding.\n",
      "left=0.0, right=0.0\n",
      "  ax.set_xlim(boundaries_list[j])\n",
      "/opt/ibm/conda/miniconda36/lib/python3.6/site-packages/pandas/plotting/_misc.py:108: UserWarning: Attempting to set identical left==right results\n",
      "in singular transformations; automatically expanding.\n",
      "left=0.0, right=0.0\n",
      "  ax.set_xlim(boundaries_list[j])\n"
     ]
    },
    {
     "data": {
      "image/png": "[encoded data removed]",
      "text/plain": [
       "<Figure size 576x576 with 49 Axes>"
      ]
     },
     "metadata": {
      "needs_background": "light"
     },
     "output_type": "display_data"
    }
   ],
   "source": [
    "numeric_data = df_features.drop('userId').toPandas()\n",
    "axs = pd.plotting.scatter_matrix(numeric_data, figsize=(8, 8));\n",
    "n = len(numeric_data.columns)\n",
    "for i in range(n):\n",
    "    v = axs[i, 0]\n",
    "    v.yaxis.label.set_rotation(0)\n",
    "    v.yaxis.label.set_ha('right')\n",
    "    v.set_yticks(())\n",
    "    h = axs[n-1, i]\n",
    "    h.xaxis.label.set_rotation(90)\n",
    "    h.set_xticks(())"
   ]
  },
  {
   "cell_type": "markdown",
   "metadata": {},
   "source": [
    "# Modeling\n",
    "Split the full dataset into train, test, and validation sets. Test out several of the machine learning methods you learned. Evaluate the accuracy of the various models, tuning parameters as necessary. Determine your winning model based on test accuracy and report results on the validation set. Since the churned users are a fairly small subset, I suggest using F1 score as the metric to optimize."
   ]
  },
  {
   "cell_type": "code",
   "execution_count": 32,
   "metadata": {},
   "outputs": [
    {
     "name": "stdout",
     "output_type": "stream",
     "text": [
      "+------+---------+-----+-----------+------+-----+-----------+------------------+--------------------+\n",
      "|userId|thumbs_up|label|thumbs_down|gender|level|count_plays|      total_length|            features|\n",
      "+------+---------+-----+-----------+------+-----+-----------+------------------+--------------------+\n",
      "|100010|        4|    1|          0|     1|    0|         96|25870.950739999997|[4.0,0.0,1.0,0.0,...|\n",
      "|200002|       15|    1|          0|     0|    1|        310| 78695.82683999998|[15.0,0.0,0.0,1.0...|\n",
      "|   296|        8|    1|          0|     1|    1|        112|28314.150059999996|[8.0,0.0,1.0,1.0,...|\n",
      "|   125|        3|    0|          0|     0|    0|         62|15813.771070000003|[3.0,0.0,0.0,0.0,...|\n",
      "|   124|      102|    1|          0|     1|    1|       1826|      456664.04058|[102.0,0.0,1.0,1....|\n",
      "+------+---------+-----+-----------+------+-----+-----------+------------------+--------------------+\n",
      "only showing top 5 rows\n",
      "\n",
      "+------+---------+-----+-----------+------+-----+-----------+------------------+--------------------+\n",
      "|userId|thumbs_up|label|thumbs_down|gender|level|count_plays|      total_length|            features|\n",
      "+------+---------+-----+-----------+------+-----+-----------+------------------+--------------------+\n",
      "|   169|        6|    0|          0|     0|    0|        112|28033.438189999993|[6.0,0.0,0.0,0.0,...|\n",
      "|   205|       50|    0|          0|     1|    1|       1048|263650.81615999993|[50.0,0.0,1.0,1.0...|\n",
      "|   234|       91|    1|          0|     0|    1|       1674|418121.37650999933|[91.0,0.0,0.0,1.0...|\n",
      "|   282|      133|    0|          0|     0|    1|       2629| 661221.6519699993|[133.0,0.0,0.0,1....|\n",
      "|    54|       26|    1|          0|     1|    1|        517|128938.65865000004|[26.0,0.0,1.0,1.0...|\n",
      "+------+---------+-----+-----------+------+-----+-----------+------------------+--------------------+\n",
      "only showing top 5 rows\n",
      "\n"
     ]
    },
    {
     "data": {
      "text/plain": [
       "DataFrame[userId: string, thumbs_up: bigint, label: int, thumbs_down: bigint, gender: int, level: int, count_plays: bigint, total_length: double, features: vector]"
      ]
     },
     "execution_count": 32,
     "metadata": {},
     "output_type": "execute_result"
    }
   ],
   "source": [
    "## Split data into train test set\n",
    "train, test = vec_features.randomSplit([0.8, 0.2], seed=12345)\n",
    "#train_y = train.select(\"label\")\n",
    "#train_x =train.drop(\"userId\").drop(\"label\")\n",
    "train.show(5)\n",
    "test.show(5)\n",
    "#test_y = test.select(\"churn\")\n",
    "#test_x =test.drop(\"userId\").drop(\"label\")\n",
    "train.persist()\n",
    "test.persist()"
   ]
  },
  {
   "cell_type": "code",
   "execution_count": 45,
   "metadata": {},
   "outputs": [],
   "source": [
    "def create_model(model, train,test):\n",
    "    '''\n",
    "    inputs: model: the model to be trained\n",
    "            train: train dataframe\n",
    "            test: test datafram\n",
    "        outputs: model: return trained model\n",
    "        Description: this methods trains and tests the model and prints the F1 and accuracy scores'''\n",
    "    model=model.fit(train)\n",
    "    predict_train=model.transform(train)\n",
    "    predict_test=model.transform(test)\n",
    "    predict_test.show(10)\n",
    "    evaluator = MulticlassClassificationEvaluator()#.setLabelCol(\"label\").setRawPredictionCol(\"prediction\")\n",
    "    result = evaluator.evaluate(predict_test, {evaluator.metricName: \"f1\"})\n",
    "    print(\"F1 score: {}\".format(result))\n",
    "    result = evaluator.evaluate(predict_test, {evaluator.metricName: \"accuracy\"})\n",
    "    print(\"Accuracy score: {}\".format(result))\n",
    "    return model\n"
   ]
  },
  {
   "cell_type": "markdown",
   "metadata": {},
   "source": [
    "## Logistic Regression"
   ]
  },
  {
   "cell_type": "code",
   "execution_count": 78,
   "metadata": {},
   "outputs": [
    {
     "name": "stdout",
     "output_type": "stream",
     "text": [
      "+------+---------+-----+-----------+------+-----+-----------+------------------+--------------------+--------------------+--------------------+----------+\n",
      "|userId|thumbs_up|label|thumbs_down|gender|level|count_plays|      total_length|            features|       rawPrediction|         probability|prediction|\n",
      "+------+---------+-----+-----------+------+-----+-----------+------------------+--------------------+--------------------+--------------------+----------+\n",
      "|   169|        6|    0|          0|     0|    0|        112|28033.438189999993|[6.0,0.0,0.0,0.0,...|[1.20606904478794...|[0.76960267289389...|       0.0|\n",
      "|   205|       50|    0|          0|     1|    1|       1048|263650.81615999993|[50.0,0.0,1.0,1.0...|[1.11229807885159...|[0.75255729608978...|       0.0|\n",
      "|   234|       91|    1|          0|     0|    1|       1674|418121.37650999933|[91.0,0.0,0.0,1.0...|[1.17262657451638...|[0.76361945322770...|       0.0|\n",
      "|   282|      133|    0|          0|     0|    1|       2629| 661221.6519699993|[133.0,0.0,0.0,1....|[1.19837806903638...|[0.76823612534185...|       0.0|\n",
      "|    54|       26|    1|          0|     1|    1|        517|128938.65865000004|[26.0,0.0,1.0,1.0...|[1.09780593421461...|[0.74984877806354...|       0.0|\n",
      "|   154|        4|    1|          0|     0|    0|         93|22319.030509999993|[4.0,0.0,0.0,0.0,...|[1.20519615839451...|[0.76944786114543...|       0.0|\n",
      "|300017|      388|    0|          0|     1|    1|       4283|1071836.0205400018|[388.0,0.0,1.0,1....|[1.25554893216357...|[0.77825892969792...|       0.0|\n",
      "|300033|       28|    0|          0|     1|    1|        351| 84531.54031000001|[28.0,0.0,1.0,1.0...|[1.09595156096174...|[0.74950078177863...|       0.0|\n",
      "|    42|      187|    0|          0|     1|    1|       4070|1014263.5979400002|[187.0,0.0,1.0,1....|[1.19444179216746...|[0.76753453381096...|       0.0|\n",
      "|300035|      498|    0|          0|     1|    1|       5528|1376538.1503100016|[498.0,0.0,1.0,1....|[1.30470973956208...|[0.78662655741130...|       0.0|\n",
      "+------+---------+-----+-----------+------+-----+-----------+------------------+--------------------+--------------------+--------------------+----------+\n",
      "only showing top 10 rows\n",
      "\n",
      "F1 score: 0.7377130770187882\n",
      "Accuracy score: 0.8191489361702128\n"
     ]
    }
   ],
   "source": [
    "# Fit model\n",
    "lr = LogisticRegression(maxIter=1,regParam=0.02, elasticNetParam=0.08, featuresCol = 'features', labelCol = 'label')\n",
    "lr =create_model(lr, train,test)"
   ]
  },
  {
   "cell_type": "markdown",
   "metadata": {},
   "source": [
    "## Decision Tree Classifier"
   ]
  },
  {
   "cell_type": "code",
   "execution_count": 71,
   "metadata": {},
   "outputs": [
    {
     "name": "stdout",
     "output_type": "stream",
     "text": [
      "+------+---------+-----+-----------+------+-----+-----------+------------------+--------------------+-------------+--------------------+----------+\n",
      "|userId|thumbs_up|label|thumbs_down|gender|level|count_plays|      total_length|            features|rawPrediction|         probability|prediction|\n",
      "+------+---------+-----+-----------+------+-----+-----------+------------------+--------------------+-------------+--------------------+----------+\n",
      "|   169|        6|    0|          0|     0|    0|        112|28033.438189999993|[6.0,0.0,0.0,0.0,...|   [17.0,7.0]|[0.70833333333333...|       0.0|\n",
      "|   205|       50|    0|          0|     1|    1|       1048|263650.81615999993|[50.0,0.0,1.0,1.0...|   [20.0,6.0]|[0.76923076923076...|       0.0|\n",
      "|   234|       91|    1|          0|     0|    1|       1674|418121.37650999933|[91.0,0.0,0.0,1.0...|   [34.0,2.0]|[0.94444444444444...|       0.0|\n",
      "|   282|      133|    0|          0|     0|    1|       2629| 661221.6519699993|[133.0,0.0,0.0,1....|   [34.0,2.0]|[0.94444444444444...|       0.0|\n",
      "|    54|       26|    1|          0|     1|    1|        517|128938.65865000004|[26.0,0.0,1.0,1.0...|    [7.0,5.0]|[0.58333333333333...|       0.0|\n",
      "|   154|        4|    1|          0|     0|    0|         93|22319.030509999993|[4.0,0.0,0.0,0.0,...|   [17.0,7.0]|[0.70833333333333...|       0.0|\n",
      "|300017|      388|    0|          0|     1|    1|       4283|1071836.0205400018|[388.0,0.0,1.0,1....|   [12.0,3.0]|           [0.8,0.2]|       0.0|\n",
      "|300033|       28|    0|          0|     1|    1|        351| 84531.54031000001|[28.0,0.0,1.0,1.0...|   [20.0,0.0]|           [1.0,0.0]|       0.0|\n",
      "|    42|      187|    0|          0|     1|    1|       4070|1014263.5979400002|[187.0,0.0,1.0,1....|   [12.0,3.0]|           [0.8,0.2]|       0.0|\n",
      "|300035|      498|    0|          0|     1|    1|       5528|1376538.1503100016|[498.0,0.0,1.0,1....|   [12.0,3.0]|           [0.8,0.2]|       0.0|\n",
      "+------+---------+-----+-----------+------+-----+-----------+------------------+--------------------+-------------+--------------------+----------+\n",
      "only showing top 10 rows\n",
      "\n",
      "F1 score: 0.7084422048027872\n",
      "Accuracy score: 0.7021276595744681\n"
     ]
    }
   ],
   "source": [
    "dt = DecisionTreeClassifier( featuresCol = 'features', labelCol = 'label')\n",
    "dt = create_model(dt, train,test)"
   ]
  },
  {
   "cell_type": "markdown",
   "metadata": {},
   "source": [
    "## Gradient-Boosted Tree Classifier"
   ]
  },
  {
   "cell_type": "code",
   "execution_count": 56,
   "metadata": {},
   "outputs": [
    {
     "name": "stdout",
     "output_type": "stream",
     "text": [
      "+------+---------+-----+-----------+------+-----+-----------+------------------+--------------------+--------------------+--------------------+----------+\n",
      "|userId|thumbs_up|label|thumbs_down|gender|level|count_plays|      total_length|            features|       rawPrediction|         probability|prediction|\n",
      "+------+---------+-----+-----------+------+-----+-----------+------------------+--------------------+--------------------+--------------------+----------+\n",
      "|   169|        6|    0|          0|     0|    0|        112|28033.438189999993|[6.0,0.0,0.0,0.0,...|[0.75228887786278...|[0.81825623989465...|       0.0|\n",
      "|   205|       50|    0|          0|     1|    1|       1048|263650.81615999993|[50.0,0.0,1.0,1.0...|[0.59023968021314...|[0.76503398309722...|       0.0|\n",
      "|   234|       91|    1|          0|     0|    1|       1674|418121.37650999933|[91.0,0.0,0.0,1.0...|[1.07582918718726...|[0.89582364404177...|       0.0|\n",
      "|   282|      133|    0|          0|     0|    1|       2629| 661221.6519699993|[133.0,0.0,0.0,1....|[1.07582918718726...|[0.89582364404177...|       0.0|\n",
      "|    54|       26|    1|          0|     1|    1|        517|128938.65865000004|[26.0,0.0,1.0,1.0...|[0.21233610012708...|[0.60460072402421...|       0.0|\n",
      "|   154|        4|    1|          0|     0|    0|         93|22319.030509999993|[4.0,0.0,0.0,0.0,...|[0.56061149313296...|[0.75421549737152...|       0.0|\n",
      "|300017|      388|    0|          0|     1|    1|       4283|1071836.0205400018|[388.0,0.0,1.0,1....|[0.47679218105113...|[0.72183545056817...|       0.0|\n",
      "|300033|       28|    0|          0|     1|    1|        351| 84531.54031000001|[28.0,0.0,1.0,1.0...|[1.16520251701008...|[0.91136406068718...|       0.0|\n",
      "|    42|      187|    0|          0|     1|    1|       4070|1014263.5979400002|[187.0,0.0,1.0,1....|[0.84936327157719...|[0.84536834093912...|       0.0|\n",
      "|300035|      498|    0|          0|     1|    1|       5528|1376538.1503100016|[498.0,0.0,1.0,1....|[0.47679218105113...|[0.72183545056817...|       0.0|\n",
      "+------+---------+-----+-----------+------+-----+-----------+------------------+--------------------+--------------------+--------------------+----------+\n",
      "only showing top 10 rows\n",
      "\n",
      "F1 score: 0.700931874526351\n",
      "Accuracy score: 0.6914893617021277\n"
     ]
    }
   ],
   "source": [
    "db = GBTClassifier(maxIter=10, featuresCol = 'features', labelCol = 'label')\n",
    "db = create_model(db, train,test)"
   ]
  },
  {
   "cell_type": "markdown",
   "metadata": {},
   "source": [
    "### Improvements"
   ]
  },
  {
   "cell_type": "markdown",
   "metadata": {},
   "source": [
    "Deciding on the Gradient-Boosted Tree Classifier, we can improve the performance of the model by optimizing its hyperparameters. We use grid search to fine tune the model parameters and then validate the model by using cross validation. We mainly tuned two tree specific parameters: max depth and max iterations."
   ]
  },
  {
   "cell_type": "code",
   "execution_count": 65,
   "metadata": {},
   "outputs": [],
   "source": [
    "from pyspark.ml.tuning import CrossValidator, ParamGridBuilder\n",
    "\n",
    "gbt = DecisionTreeClassifier(maxDepth = 3, featuresCol = 'features', labelCol = 'label')\n",
    "\n",
    "# build paramGrid\n",
    "paramGrid = ParamGridBuilder() \\\n",
    "    .addGrid(gbt.maxDepth,[5, 6]) \\\n",
    "    .addGrid(gbt.maxBins, [10,12]) \\\n",
    "    .build()\n",
    "\n",
    "# set evaluator\n",
    "f1_evaluator = MulticlassClassificationEvaluator(metricName='f1')\n",
    "\n",
    "crossval_gbt = CrossValidator(estimator=gbt,\n",
    "                          estimatorParamMaps=paramGrid,\n",
    "                          evaluator=f1_evaluator,\n",
    "                          numFolds=3)\n",
    "\n",
    "cv_gbt = crossval_gbt.fit(train)\n",
    "#cvModel_gbt."
   ]
  },
  {
   "cell_type": "code",
   "execution_count": 68,
   "metadata": {},
   "outputs": [],
   "source": [
    "#predict_test = cvModel_gbt.transform(test)\n",
    "predict_test = cv_gbt.transform(test)"
   ]
  },
  {
   "cell_type": "code",
   "execution_count": 69,
   "metadata": {},
   "outputs": [
    {
     "name": "stdout",
     "output_type": "stream",
     "text": [
      "F1 score: 0.7308914624293025\n",
      "Accuracy score: 0.7446808510638298\n"
     ]
    }
   ],
   "source": [
    "evaluator = MulticlassClassificationEvaluator()#.setLabelCol(\"label\").setRawPredictionCol(\"prediction\")\n",
    "result = evaluator.evaluate(predict_test, {evaluator.metricName: \"f1\"})\n",
    "print(\"F1 score: {}\".format(result))\n",
    "result = evaluator.evaluate(predict_test, {evaluator.metricName: \"accuracy\"})\n",
    "print(\"Accuracy score: {}\".format(result))"
   ]
  },
  {
   "cell_type": "markdown",
   "metadata": {},
   "source": [
    "### Feature importance"
   ]
  },
  {
   "cell_type": "code",
   "execution_count": 88,
   "metadata": {},
   "outputs": [
    {
     "data": {
      "image/png": "[encoded data removed]",
      "text/plain": [
       "<Figure size 432x288 with 1 Axes>"
      ]
     },
     "metadata": {
      "needs_background": "light"
     },
     "output_type": "display_data"
    }
   ],
   "source": [
    "import numpy as np\n",
    "feat_imp = cv_gbt.bestModel.featureImportances.values\n",
    "cols =['thumbs_up','thumbs_down', 'gender','level','count_plays']\n",
    "y_pos = np.arange(len(cols))\n",
    " \n",
    "plt.barh(y_pos, feat_imp, align='center')\n",
    "plt.yticks(y_pos, cols)\n",
    "plt.xlabel('Importance')\n",
    "plt.title('Model Feature Importance');\n",
    "\n"
   ]
  },
  {
   "cell_type": "markdown",
   "metadata": {},
   "source": [
    "## Next steps and improvment\n",
    "Despite the model's great results there is a room for improvment: \n",
    "1- Work with a bigger dataset that has more events.\n",
    "2- Feature engineering by understanding how other events in page could correlate with the churn rate."
   ]
  }
 ],
 "metadata": {
  "kernelspec": {
   "display_name": "Python 3.6 with Spark",
   "language": "python3",
   "name": "python36"
  },
  "language_info": {
   "codemirror_mode": {
    "name": "ipython",
    "version": 3
   },
   "file_extension": ".py",
   "mimetype": "text/x-python",
   "name": "python",
   "nbconvert_exporter": "python",
   "pygments_lexer": "ipython3",
   "version": "3.6.8"
  }
 },
 "nbformat": 4,
 "nbformat_minor": 2
}
